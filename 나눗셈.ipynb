{
 "cells": [
  {
   "cell_type": "markdown",
   "id": "aacfaad2-991a-409f-a0da-f7a91f502845",
   "metadata": {},
   "source": [
    "#문자를 입력하거나 분모에 0이 들어가 오류가 발생하는 경우를 처리하기 위해 try를 사용한다\n",
    "#오류가 발생한 경우 입력한 숫자를 확인해 달라고 요청하기 위해서 except를 사용한다"
   ]
  },
  {
   "cell_type": "code",
   "execution_count": null,
   "id": "8ca9a183-663f-41d0-94dd-f335cdae6b94",
   "metadata": {},
   "outputs": [],
   "source": [
    "try:\n",
    "  a,b = map(int,input(\"숫자 두개를 입력해주세요\").split())\n",
    "  c = a/b\n",
    "  print(f'{a}/{b}={c}')\n",
    "\n",
    "except:\n",
    "  print(\"입력한 숫자를 확인해 주세요\")"
   ]
  }
 ],
 "metadata": {
  "kernelspec": {
   "display_name": "anaconda-panel-2023.05-py310",
   "language": "python",
   "name": "conda-env-anaconda-panel-2023.05-py310-py"
  },
  "language_info": {
   "codemirror_mode": {
    "name": "ipython",
    "version": 3
   },
   "file_extension": ".py",
   "mimetype": "text/x-python",
   "name": "python",
   "nbconvert_exporter": "python",
   "pygments_lexer": "ipython3",
   "version": "3.11.5"
  }
 },
 "nbformat": 4,
 "nbformat_minor": 5
}
